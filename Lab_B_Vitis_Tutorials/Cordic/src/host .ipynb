{
 "cells": [
  {
   "cell_type": "markdown",
   "id": "4d70683f-dc57-4e4f-a3b5-9f334bf9acf1",
   "metadata": {},
   "source": [
    "# PIPELINE"
   ]
  },
  {
   "cell_type": "code",
   "execution_count": 1,
   "id": "d78cbef4-fd13-47b0-9d72-73afd73e99e6",
   "metadata": {},
   "outputs": [
    {
     "data": {
      "application/javascript": [
       "\n",
       "try {\n",
       "require(['notebook/js/codecell'], function(codecell) {\n",
       "  codecell.CodeCell.options_default.highlight_modes[\n",
       "      'magic_text/x-csrc'] = {'reg':[/^%%microblaze/]};\n",
       "  Jupyter.notebook.events.one('kernel_ready.Kernel', function(){\n",
       "      Jupyter.notebook.get_cells().map(function(cell){\n",
       "          if (cell.cell_type == 'code'){ cell.auto_highlight(); } }) ;\n",
       "  });\n",
       "});\n",
       "} catch (e) {};\n"
      ]
     },
     "metadata": {},
     "output_type": "display_data"
    },
    {
     "data": {
      "application/javascript": [
       "\n",
       "try {\n",
       "require(['notebook/js/codecell'], function(codecell) {\n",
       "  codecell.CodeCell.options_default.highlight_modes[\n",
       "      'magic_text/x-csrc'] = {'reg':[/^%%pybind11/]};\n",
       "  Jupyter.notebook.events.one('kernel_ready.Kernel', function(){\n",
       "      Jupyter.notebook.get_cells().map(function(cell){\n",
       "          if (cell.cell_type == 'code'){ cell.auto_highlight(); } }) ;\n",
       "  });\n",
       "});\n",
       "} catch (e) {};\n"
      ]
     },
     "metadata": {},
     "output_type": "display_data"
    }
   ],
   "source": [
    "from pynq import Overlay\n",
    "import numpy as np\n",
    "from time import time"
   ]
  },
  {
   "cell_type": "code",
   "execution_count": 2,
   "id": "430acd69-1b91-4bf4-824c-87be30478f33",
   "metadata": {},
   "outputs": [],
   "source": [
    "ol = Overlay(\"system.bit\")"
   ]
  },
  {
   "cell_type": "code",
   "execution_count": 3,
   "id": "29195577-cb34-4431-ae54-16543efa1411",
   "metadata": {},
   "outputs": [],
   "source": [
    "ipCORDIC = ol.cordic_0"
   ]
  },
  {
   "cell_type": "code",
   "execution_count": 4,
   "id": "6d45232b-d848-4829-a271-7501d923ffb4",
   "metadata": {},
   "outputs": [],
   "source": [
    "deg = np.arange(90)+1\n",
    "rad = np.fix(deg /180 * np.pi *1024).astype(int) #convert to int"
   ]
  },
  {
   "cell_type": "code",
   "execution_count": 5,
   "id": "e4dc53dd-0c0b-4083-bc29-97534c525c76",
   "metadata": {},
   "outputs": [
    {
     "name": "stdout",
     "output_type": "stream",
     "text": [
      "degree = 1, cos = 1.0048828125, sin = 0.009765625\n",
      "degree = 2, cos = 1.0029296875, sin = 0.029296875\n",
      "degree = 3, cos = 1.001953125, sin = 0.0498046875\n",
      "degree = 4, cos = 1.0009765625, sin = 0.0703125\n",
      "degree = 5, cos = 0.9990234375, sin = 0.0791015625\n",
      "degree = 6, cos = 0.998046875, sin = 0.09765625\n",
      "degree = 7, cos = 0.9951171875, sin = 0.1162109375\n",
      "degree = 8, cos = 0.994140625, sin = 0.130859375\n",
      "degree = 9, cos = 0.9912109375, sin = 0.1513671875\n",
      "degree = 10, cos = 0.9892578125, sin = 0.1669921875\n",
      "degree = 11, cos = 0.984375, sin = 0.185546875\n",
      "degree = 12, cos = 0.982421875, sin = 0.201171875\n",
      "degree = 13, cos = 0.9794921875, sin = 0.2197265625\n",
      "degree = 14, cos = 0.974609375, sin = 0.23828125\n",
      "degree = 15, cos = 0.9697265625, sin = 0.25390625\n",
      "degree = 16, cos = 0.96484375, sin = 0.2685546875\n",
      "degree = 17, cos = 0.9609375, sin = 0.2880859375\n",
      "degree = 18, cos = 0.9541015625, sin = 0.306640625\n",
      "degree = 19, cos = 0.94921875, sin = 0.3173828125\n",
      "degree = 20, cos = 0.943359375, sin = 0.3349609375\n",
      "degree = 21, cos = 0.9375, sin = 0.3544921875\n",
      "degree = 22, cos = 0.9326171875, sin = 0.3681640625\n",
      "degree = 23, cos = 0.923828125, sin = 0.38671875\n",
      "degree = 24, cos = 0.91796875, sin = 0.400390625\n",
      "degree = 25, cos = 0.9091796875, sin = 0.4208984375\n",
      "degree = 26, cos = 0.9033203125, sin = 0.431640625\n",
      "degree = 27, cos = 0.89453125, sin = 0.4501953125\n",
      "degree = 28, cos = 0.884765625, sin = 0.4677734375\n",
      "degree = 29, cos = 0.876953125, sin = 0.4814453125\n",
      "degree = 30, cos = 0.8701171875, sin = 0.4970703125\n",
      "degree = 31, cos = 0.859375, sin = 0.51171875\n",
      "degree = 32, cos = 0.8486328125, sin = 0.5283203125\n",
      "degree = 33, cos = 0.84375, sin = 0.5361328125\n",
      "degree = 34, cos = 0.8330078125, sin = 0.552734375\n",
      "degree = 35, cos = 0.822265625, sin = 0.5693359375\n",
      "degree = 36, cos = 0.8134765625, sin = 0.58203125\n",
      "degree = 37, cos = 0.8037109375, sin = 0.595703125\n",
      "degree = 38, cos = 0.79296875, sin = 0.6083984375\n",
      "degree = 39, cos = 0.7802734375, sin = 0.626953125\n",
      "degree = 40, cos = 0.771484375, sin = 0.634765625\n",
      "degree = 41, cos = 0.7587890625, sin = 0.6513671875\n",
      "degree = 42, cos = 0.74609375, sin = 0.666015625\n",
      "degree = 43, cos = 0.734375, sin = 0.677734375\n",
      "degree = 44, cos = 0.72265625, sin = 0.69140625\n",
      "degree = 45, cos = 0.7119140625, sin = 0.701171875\n",
      "degree = 46, cos = 0.6982421875, sin = 0.71484375\n",
      "degree = 47, cos = 0.685546875, sin = 0.724609375\n",
      "degree = 48, cos = 0.673828125, sin = 0.736328125\n",
      "degree = 49, cos = 0.6611328125, sin = 0.7490234375\n",
      "degree = 50, cos = 0.64453125, sin = 0.76171875\n",
      "degree = 51, cos = 0.6328125, sin = 0.7705078125\n",
      "degree = 52, cos = 0.6162109375, sin = 0.78515625\n",
      "degree = 53, cos = 0.6044921875, sin = 0.7939453125\n",
      "degree = 54, cos = 0.5908203125, sin = 0.802734375\n",
      "degree = 55, cos = 0.578125, sin = 0.8115234375\n",
      "degree = 56, cos = 0.5615234375, sin = 0.82421875\n",
      "degree = 57, cos = 0.544921875, sin = 0.8349609375\n",
      "degree = 58, cos = 0.5361328125, sin = 0.83984375\n",
      "degree = 59, cos = 0.51953125, sin = 0.8505859375\n",
      "degree = 60, cos = 0.5029296875, sin = 0.8623046875\n",
      "degree = 61, cos = 0.4892578125, sin = 0.8681640625\n",
      "degree = 62, cos = 0.47265625, sin = 0.8779296875\n",
      "degree = 63, cos = 0.458984375, sin = 0.8857421875\n",
      "degree = 64, cos = 0.4404296875, sin = 0.89453125\n",
      "degree = 65, cos = 0.4296875, sin = 0.900390625\n",
      "degree = 66, cos = 0.4091796875, sin = 0.9091796875\n",
      "degree = 67, cos = 0.39453125, sin = 0.916015625\n",
      "degree = 68, cos = 0.376953125, sin = 0.923828125\n",
      "degree = 69, cos = 0.3623046875, sin = 0.9287109375\n",
      "degree = 70, cos = 0.3447265625, sin = 0.9345703125\n",
      "degree = 71, cos = 0.3271484375, sin = 0.9404296875\n",
      "degree = 72, cos = 0.3154296875, sin = 0.9443359375\n",
      "degree = 73, cos = 0.296875, sin = 0.951171875\n",
      "degree = 74, cos = 0.27734375, sin = 0.955078125\n",
      "degree = 75, cos = 0.2626953125, sin = 0.9599609375\n",
      "degree = 76, cos = 0.2451171875, sin = 0.96484375\n",
      "degree = 77, cos = 0.228515625, sin = 0.9697265625\n",
      "degree = 78, cos = 0.2080078125, sin = 0.97265625\n",
      "degree = 79, cos = 0.1943359375, sin = 0.974609375\n",
      "degree = 80, cos = 0.17578125, sin = 0.9794921875\n",
      "degree = 81, cos = 0.16015625, sin = 0.9814453125\n",
      "degree = 82, cos = 0.1396484375, sin = 0.984375\n",
      "degree = 83, cos = 0.1240234375, sin = 0.9873046875\n",
      "degree = 84, cos = 0.10546875, sin = 0.9892578125\n",
      "degree = 85, cos = 0.0869140625, sin = 0.990234375\n",
      "degree = 86, cos = 0.07421875, sin = 0.9912109375\n",
      "degree = 87, cos = 0.056640625, sin = 0.9912109375\n",
      "degree = 88, cos = 0.0380859375, sin = 0.9921875\n",
      "degree = 89, cos = 0.0224609375, sin = 0.994140625\n",
      "Kernel execution time: 0.09640121459960938 s\n"
     ]
    }
   ],
   "source": [
    "s = np.zeros(90)\n",
    "c = np.zeros(90)\n",
    "start = time()\n",
    "for i in range(89):\n",
    "    #write rad\n",
    "    ipCORDIC.write(0x10, int(rad[i]))\n",
    "    #ap start\n",
    "    ipCORDIC.write(0x00, 0x01)\n",
    "    while True:\n",
    "        if((ipCORDIC.read(0x1c) == 1) & (ipCORDIC.read(0x2c) == 1)):\n",
    "            s[i] = ipCORDIC.read(0x18)\n",
    "            c[i] = ipCORDIC.read(0x28)\n",
    "            break\n",
    "    print('degree = {deg}, cos = {cos}, sin = {sin}'.format(deg = deg[i], cos = c[i] / 1024, sin = s[i] / 1024))        \n",
    "end = time()\n",
    "print(\"Kernel execution time: \" + str(end - start) + \" s\")"
   ]
  }
 ],
 "metadata": {
  "kernelspec": {
   "display_name": "Python 3",
   "language": "python",
   "name": "python3"
  },
  "language_info": {
   "codemirror_mode": {
    "name": "ipython",
    "version": 3
   },
   "file_extension": ".py",
   "mimetype": "text/x-python",
   "name": "python",
   "nbconvert_exporter": "python",
   "pygments_lexer": "ipython3",
   "version": "3.8.2"
  }
 },
 "nbformat": 4,
 "nbformat_minor": 5
}
