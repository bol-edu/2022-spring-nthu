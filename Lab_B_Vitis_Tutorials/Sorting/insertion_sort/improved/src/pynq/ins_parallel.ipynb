{
 "cells": [
  {
   "cell_type": "code",
   "execution_count": 2,
   "metadata": {},
   "outputs": [],
   "source": [
    "import numpy as np\n",
    "from time import time\n",
    "\n",
    "from pynq import Overlay \n",
    "from pynq import allocate\n",
    "SIZE = 16 \n",
    "ol = Overlay(\"ins_parallel.bit\")\n",
    "ip = ol.ins_parallel_0\n",
    "\n",
    "inbuffer0 = allocate(shape=(SIZE,), dtype = np.int32)\n",
    "outbuffer0 = allocate(shape=(SIZE,), dtype = np.int32)"
   ]
  },
  {
   "cell_type": "code",
   "execution_count": 3,
   "metadata": {},
   "outputs": [
    {
     "name": "stdout",
     "output_type": "stream",
     "text": [
      "[16 15 14 13 12 11 10  9  8  7  6  5  4  3  2  1]\n"
     ]
    }
   ],
   "source": [
    "for i in range(SIZE):\n",
    "   inbuffer0[i] = int(SIZE-i)\n",
    "print(inbuffer0)"
   ]
  },
  {
   "cell_type": "code",
   "execution_count": 4,
   "metadata": {},
   "outputs": [],
   "source": [
    "for i in range (SIZE):\n",
    "    ip.write( 0x40+4*i , int(inbuffer0[i]))"
   ]
  },
  {
   "cell_type": "code",
   "execution_count": 5,
   "metadata": {},
   "outputs": [
    {
     "name": "stdout",
     "output_type": "stream",
     "text": [
      "[ 1  2  3  4  5  6  7  8  9 10 11 12 13 14 15 16]\n"
     ]
    }
   ],
   "source": [
    "ip.write(0x00 , 0x01)\n",
    "while (ip.read(0x00) & 0x4) == 0x0 :\n",
    "    continue\n",
    "for i in range (SIZE):\n",
    "    outbuffer0[i] = ip.read(0x80 + 4 * i)\n",
    "print(outbuffer0)"
   ]
  },
  {
   "cell_type": "code",
   "execution_count": null,
   "metadata": {},
   "outputs": [],
   "source": []
  }
 ],
 "metadata": {
  "kernelspec": {
   "display_name": "Python 3",
   "language": "python",
   "name": "python3"
  },
  "language_info": {
   "codemirror_mode": {
    "name": "ipython",
    "version": 3
   },
   "file_extension": ".py",
   "mimetype": "text/x-python",
   "name": "python",
   "nbconvert_exporter": "python",
   "pygments_lexer": "ipython3",
   "version": "3.6.5"
  }
 },
 "nbformat": 4,
 "nbformat_minor": 2
}
