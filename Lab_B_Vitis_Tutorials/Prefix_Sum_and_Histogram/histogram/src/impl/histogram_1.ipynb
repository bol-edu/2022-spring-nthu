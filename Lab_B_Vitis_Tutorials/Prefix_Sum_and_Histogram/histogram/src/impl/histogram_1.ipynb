{
 "cells": [
  {
   "cell_type": "markdown",
   "metadata": {},
   "source": [
    "// 0x40 ~\n",
    "// 0x7f : Memory 'in_r' (10 * 32b)\n",
    "//        Word n : bit [31:0] - in_r[n]\n",
    "// 0x80 ~\n",
    "// 0xbf : Memory 'hist' (10 * 32b)\n",
    "//        Word n : bit [31:0] - hist[n]\n",
    "// (SC = Self Clear, COR = Clear on Read, TOW = Toggle on Write, COH = Clear on Handshake)\n"
   ]
  },
  {
   "cell_type": "code",
   "execution_count": 14,
   "metadata": {},
   "outputs": [
    {
     "name": "stdout",
     "output_type": "stream",
     "text": [
      "inBuffer0\n",
      " [3 1 3 2 2 4 4 0 3 5]\n",
      "outBuffer0\n",
      " [1 1 2 3 2 1 0 0 0 0]\n"
     ]
    }
   ],
   "source": [
    "#import sys\n",
    "import numpy as np\n",
    "from time import time\n",
    "import matplotlib.pyplot as plt \n",
    "\n",
    "#sys.path.append('/home/xilinx')\n",
    "from pynq import Overlay\n",
    "from pynq import allocate\n",
    "ol = Overlay(\"histogram_1.bit\")\n",
    "ip = ol.histogram_0\n",
    "\n",
    "INPUT_SIZE =10\n",
    "VALUE_SIZE =10\n",
    "\n",
    "inBuffer0 = allocate(shape=(INPUT_SIZE,), dtype=np.int32)\n",
    "outBuffer0 = allocate(shape=(VALUE_SIZE,), dtype=np.int32)\n",
    "\n",
    "#for i in range(SIZE):\n",
    "#    inBuffer0[i] = int(i)\n",
    "#    \n",
    "inBuffer0 = np.array([3,1,3,2,2,4,4,0,3,5]);\n",
    "print(\"inBuffer0\\n\",inBuffer0)\n",
    "\n",
    "#----------------------------------------\n",
    "for i in range(INPUT_SIZE):\n",
    "    ip.write( 0x40+4*i, int(inBuffer0[i]))\n",
    "\n",
    "ip.write(0x00, 0x01)\n",
    "while (ip.read(0x00) & 0x4) == 0x0:\n",
    "    continue\n",
    "for i in range(VALUE_SIZE):\n",
    "    outBuffer0[i] = ip.read(0x80+4*i)\n",
    "#----------------------------------------\n",
    "print(\"outBuffer0\\n\",outBuffer0)\n"
   ]
  },
  {
   "cell_type": "code",
   "execution_count": 15,
   "metadata": {},
   "outputs": [
    {
     "data": {
      "text/plain": [
       "<Container object of 10 artists>"
      ]
     },
     "execution_count": 15,
     "metadata": {},
     "output_type": "execute_result"
    },
    {
     "data": {
      "image/png": "[encoded data removed]",
      "text/plain": [
       "<matplotlib.figure.Figure at 0xaf058650>"
      ]
     },
     "metadata": {},
     "output_type": "display_data"
    }
   ],
   "source": [
    "plt.bar(range(0,VALUE_SIZE),outBuffer0)"
   ]
  },
  {
   "cell_type": "code",
   "execution_count": null,
   "metadata": {},
   "outputs": [],
   "source": []
  }
 ],
 "metadata": {
  "kernelspec": {
   "display_name": "Python 3",
   "language": "python",
   "name": "python3"
  },
  "language_info": {
   "codemirror_mode": {
    "name": "ipython",
    "version": 3
   },
   "file_extension": ".py",
   "mimetype": "text/x-python",
   "name": "python",
   "nbconvert_exporter": "python",
   "pygments_lexer": "ipython3",
   "version": "3.6.5"
  }
 },
 "nbformat": 4,
 "nbformat_minor": 4
}
