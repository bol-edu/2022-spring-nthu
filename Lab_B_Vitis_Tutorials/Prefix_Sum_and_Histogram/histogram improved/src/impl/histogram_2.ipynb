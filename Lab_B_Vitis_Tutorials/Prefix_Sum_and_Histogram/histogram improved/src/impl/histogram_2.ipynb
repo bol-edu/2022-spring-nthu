{
 "cells": [
  {
   "cell_type": "code",
   "execution_count": 1,
   "metadata": {},
   "outputs": [
    {
     "data": {
      "application/javascript": [
       "\n",
       "require(['notebook/js/codecell'], function(codecell) {\n",
       "  codecell.CodeCell.options_default.highlight_modes[\n",
       "      'magic_text/x-csrc'] = {'reg':[/^%%microblaze/]};\n",
       "  Jupyter.notebook.events.one('kernel_ready.Kernel', function(){\n",
       "      Jupyter.notebook.get_cells().map(function(cell){\n",
       "          if (cell.cell_type == 'code'){ cell.auto_highlight(); } }) ;\n",
       "  });\n",
       "});\n"
      ]
     },
     "metadata": {},
     "output_type": "display_data"
    },
    {
     "name": "stdout",
     "output_type": "stream",
     "text": [
      "inBuffer0\n",
      " [3 1 3 2 2 4 4 0 3 5]\n",
      "outBuffer0\n",
      " [1 1 2 3 2 1]\n"
     ]
    }
   ],
   "source": [
    "import math\n",
    "import numpy as np\n",
    "from time import time\n",
    "import matplotlib.pyplot as plt \n",
    "\n",
    "from pynq import Overlay\n",
    "from pynq import allocate\n",
    "ol = Overlay(\"histogram_2.bit\")\n",
    "ol?\n",
    "ip = ol.histogram_0\n",
    "\n",
    "INPUT_SIZE =10\n",
    "VALUE_SIZE =6\n",
    "\n",
    "inBuffer0 = allocate(shape=(INPUT_SIZE,), dtype=np.int32)\n",
    "outBuffer0 = allocate(shape=(VALUE_SIZE,), dtype=np.int32)\n",
    "\n",
    "    \n",
    "inBuffer0 = np.array([3,1,3,2,2,4,4,0,3,5]);\n",
    "print(\"inBuffer0\\n\",inBuffer0)\n",
    "\n",
    "#----------------------------------------\n",
    "for i in range(INPUT_SIZE):\n",
    "    ip.write( 0x40+4*i, int(inBuffer0[i]))\n",
    "\n",
    "ip.write(0x00, 0x01)\n",
    "while (ip.read(0x00) & 0x4) == 0x0:\n",
    "    continue\n",
    "for i in range(VALUE_SIZE):\n",
    "    outBuffer0[i] = ip.read(0x80+4*i)\n",
    "#----------------------------------------\n",
    "print(\"outBuffer0\\n\",outBuffer0)\n"
   ]
  },
  {
   "cell_type": "code",
   "execution_count": 2,
   "metadata": {},
   "outputs": [
    {
     "data": {
      "text/plain": [
       "([<matplotlib.axis.YTick at 0xaf2c57b0>,\n",
       "  <matplotlib.axis.YTick at 0xaf2c5890>,\n",
       "  <matplotlib.axis.YTick at 0xaf2c5d30>],\n",
       " <a list of 3 Text yticklabel objects>)"
      ]
     },
     "execution_count": 2,
     "metadata": {},
     "output_type": "execute_result"
    },
    {
     "data": {
      "image/png": "[encoded data removed]",
      "text/plain": [
       "<matplotlib.figure.Figure at 0xb5500b70>"
      ]
     },
     "metadata": {},
     "output_type": "display_data"
    }
   ],
   "source": [
    "plt.bar(range(0,VALUE_SIZE),outBuffer0)\n",
    "plt.yticks([0,1,2,3])\n",
    "yint = range(min(outBuffer0), math.ceil(max(outBuffer0))+1)\n",
    "plt.yticks(yint)"
   ]
  },
  {
   "cell_type": "code",
   "execution_count": null,
   "metadata": {},
   "outputs": [],
   "source": []
  }
 ],
 "metadata": {
  "kernelspec": {
   "display_name": "Python 3",
   "language": "python",
   "name": "python3"
  },
  "language_info": {
   "codemirror_mode": {
    "name": "ipython",
    "version": 3
   },
   "file_extension": ".py",
   "mimetype": "text/x-python",
   "name": "python",
   "nbconvert_exporter": "python",
   "pygments_lexer": "ipython3",
   "version": "3.6.5"
  }
 },
 "nbformat": 4,
 "nbformat_minor": 4
}
