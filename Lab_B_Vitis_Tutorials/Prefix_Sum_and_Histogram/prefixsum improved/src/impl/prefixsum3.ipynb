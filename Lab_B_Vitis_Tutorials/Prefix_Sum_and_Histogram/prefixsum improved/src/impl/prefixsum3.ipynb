{
 "cells": [
  {
   "cell_type": "code",
   "execution_count": 11,
   "metadata": {},
   "outputs": [],
   "source": [
    "#import sys\n",
    "import numpy as np\n",
    "from time import time\n",
    "import matplotlib.pyplot as plt \n",
    "\n",
    "#sys.path.append('/home/xilinx')\n",
    "from pynq import Overlay\n",
    "from pynq import allocate\n",
    "SIZE = 128\n",
    "ol = Overlay(\"prefixsum3.bit\")\n",
    "ip = ol.prefixsum_0\n",
    "\n",
    "inBuffer0 = allocate(shape=(SIZE,), dtype=np.int32)\n",
    "outBuffer0 = allocate(shape=(SIZE,), dtype=np.int32)\n"
   ]
  },
  {
   "cell_type": "code",
   "execution_count": 12,
   "metadata": {},
   "outputs": [
    {
     "name": "stdout",
     "output_type": "stream",
     "text": [
      "[  0   1   2   3   4   5   6   7   8   9  10  11  12  13  14  15  16  17\n",
      "  18  19  20  21  22  23  24  25  26  27  28  29  30  31  32  33  34  35\n",
      "  36  37  38  39  40  41  42  43  44  45  46  47  48  49  50  51  52  53\n",
      "  54  55  56  57  58  59  60  61  62  63  64  65  66  67  68  69  70  71\n",
      "  72  73  74  75  76  77  78  79  80  81  82  83  84  85  86  87  88  89\n",
      "  90  91  92  93  94  95  96  97  98  99 100 101 102 103 104 105 106 107\n",
      " 108 109 110 111 112 113 114 115 116 117 118 119 120 121 122 123 124 125\n",
      " 126 127]\n"
     ]
    }
   ],
   "source": [
    "for i in range(SIZE):\n",
    "    inBuffer0[i] = int(i)\n",
    "print(inBuffer0)\n",
    "prefixsum_sw = np.arange(SIZE)\n",
    "prefixsum_sw = np.cumsum(prefixsum_sw)"
   ]
  },
  {
   "cell_type": "code",
   "execution_count": 13,
   "metadata": {},
   "outputs": [
    {
     "name": "stdout",
     "output_type": "stream",
     "text": [
      "[   0    1    3    6   10   15   21   28   36   45   55   66   78   91  105\n",
      "  120  136  153  171  190  210  231  253  276  300  325  351  378  406  435\n",
      "  465  496  528  561  595  630  666  703  741  780  820  861  903  946  990\n",
      " 1035 1081 1128 1176 1225 1275 1326 1378 1431 1485 1540 1596 1653 1711 1770\n",
      " 1830 1891 1953 2016 2080 2145 2211 2278 2346 2415 2485 2556 2628 2701 2775\n",
      " 2850 2926 3003 3081 3160 3240 3321 3403 3486 3570 3655 3741 3828 3916 4005\n",
      " 4095 4186 4278 4371 4465 4560 4656 4753 4851 4950 5050 5151 5253 5356 5460\n",
      " 5565 5671 5778 5886 5995 6105 6216 6328 6441 6555 6670 6786 6903 7021 7140\n",
      " 7260 7381 7503 7626 7750 7875 8001 8128]\n"
     ]
    }
   ],
   "source": [
    "print(prefixsum_sw)"
   ]
  },
  {
   "cell_type": "code",
   "execution_count": 14,
   "metadata": {},
   "outputs": [],
   "source": [
    "startTime=time()\n",
    "for i in range(128):\n",
    "    ip.write( 0x200+4*i, int(inBuffer0[i]))\n",
    "ip.write(0x00, 0x01)\n",
    "while (ip.read(0x00) & 0x4) == 0x0:\n",
    "    continue\n",
    "for i in range(128):\n",
    "    outBuffer0[i] = ip.read(0x400+4*i)\n",
    "endTime=time()\n"
   ]
  },
  {
   "cell_type": "code",
   "execution_count": 15,
   "metadata": {},
   "outputs": [
    {
     "name": "stdout",
     "output_type": "stream",
     "text": [
      "calc time 0.01085042953491211\n",
      "sw result\n",
      " [   0    1    3    6   10   15   21   28   36   45   55   66   78   91  105\n",
      "  120  136  153  171  190  210  231  253  276  300  325  351  378  406  435\n",
      "  465  496  528  561  595  630  666  703  741  780  820  861  903  946  990\n",
      " 1035 1081 1128 1176 1225 1275 1326 1378 1431 1485 1540 1596 1653 1711 1770\n",
      " 1830 1891 1953 2016 2080 2145 2211 2278 2346 2415 2485 2556 2628 2701 2775\n",
      " 2850 2926 3003 3081 3160 3240 3321 3403 3486 3570 3655 3741 3828 3916 4005\n",
      " 4095 4186 4278 4371 4465 4560 4656 4753 4851 4950 5050 5151 5253 5356 5460\n",
      " 5565 5671 5778 5886 5995 6105 6216 6328 6441 6555 6670 6786 6903 7021 7140\n",
      " 7260 7381 7503 7626 7750 7875 8001 8128]\n",
      "[   0    1    3    6   10   15   21   28   36   45   55   66   78   91  105\n",
      "  120  136  153  171  190  210  231  253  276  300  325  351  378  406  435\n",
      "  465  496  528  561  595  630  666  703  741  780  820  861  903  946  990\n",
      " 1035 1081 1128 1176 1225 1275 1326 1378 1431 1485 1540 1596 1653 1711 1770\n",
      " 1830 1891 1953 2016 2080 2145 2211 2278 2346 2415 2485 2556 2628 2701 2775\n",
      " 2850 2926 3003 3081 3160 3240 3321 3403 3486 3570 3655 3741 3828 3916 4005\n",
      " 4095 4186 4278 4371 4465 4560 4656 4753 4851 4950 5050 5151 5253 5356 5460\n",
      " 5565 5671 5778 5886 5995 6105 6216 6328 6441 6555 6670 6786 6903 7021 7140\n",
      " 7260 7381 7503 7626 7750 7875 8001 8128]\n",
      "Simulation PASS\n"
     ]
    }
   ],
   "source": [
    "print(\"calc time\",endTime-startTime)\n",
    "\n",
    "print(\"sw result\\n\", prefixsum_sw)\n",
    "print(outBuffer0)\n",
    "if(np.array_equal(prefixsum_sw, outBuffer0)):\n",
    "    print(\"Simulation PASS\")\n",
    "else:\n",
    "    print(\"Simulation FAIL\")"
   ]
  },
  {
   "cell_type": "code",
   "execution_count": null,
   "metadata": {},
   "outputs": [],
   "source": []
  },
  {
   "cell_type": "code",
   "execution_count": null,
   "metadata": {},
   "outputs": [],
   "source": []
  },
  {
   "cell_type": "code",
   "execution_count": null,
   "metadata": {},
   "outputs": [],
   "source": []
  }
 ],
 "metadata": {
  "kernelspec": {
   "display_name": "Python 3",
   "language": "python",
   "name": "python3"
  },
  "language_info": {
   "codemirror_mode": {
    "name": "ipython",
    "version": 3
   },
   "file_extension": ".py",
   "mimetype": "text/x-python",
   "name": "python",
   "nbconvert_exporter": "python",
   "pygments_lexer": "ipython3",
   "version": "3.6.5"
  }
 },
 "nbformat": 4,
 "nbformat_minor": 2
}
